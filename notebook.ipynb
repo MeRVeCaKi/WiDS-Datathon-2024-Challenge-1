{
 "cells": [
  {
   "cell_type": "markdown",
   "metadata": {},
   "source": [
    "Kütüphanelerin Eklenmesi"
   ]
  },
  {
   "cell_type": "code",
   "execution_count": 123,
   "metadata": {},
   "outputs": [],
   "source": [
    "import pandas as pd           \n",
    "from sklearn.preprocessing import LabelEncoder\n",
    "from sklearn.model_selection import train_test_split\n",
    "from sklearn.metrics import roc_auc_score\n",
    "from lightgbm import LGBMRegressor"
   ]
  },
  {
   "cell_type": "code",
   "execution_count": 124,
   "metadata": {},
   "outputs": [],
   "source": [
    "pd.set_option(\"display.max_rows\", None)\n",
    "pd.set_option(\"display.max_columns\", None)"
   ]
  },
  {
   "cell_type": "markdown",
   "metadata": {},
   "source": [
    "Veri"
   ]
  },
  {
   "cell_type": "code",
   "execution_count": 125,
   "metadata": {},
   "outputs": [],
   "source": [
    "training = pd.read_csv(\"training.csv\")\n",
    "test = pd.read_csv(\"test.csv\")\n",
    "sample_submission = pd.read_csv(\"sample_submission.csv\")"
   ]
  },
  {
   "cell_type": "markdown",
   "metadata": {},
   "source": [
    "Sütunlar arasındaki ilişkilerin incelenmesi sonucunda hedef sütununa yararı olmayan sütunların veri setinden çıkarılması"
   ]
  },
  {
   "cell_type": "code",
   "execution_count": 126,
   "metadata": {},
   "outputs": [],
   "source": [
    "columns = [\n",
    "    'age_under_10', 'age_10_to_19', 'age_20s', 'age_30s', 'age_40s', 'age_50s', 'age_60s', 'age_70s', 'age_over_80', \n",
    "    'income_household_under_5', 'income_household_5_to_10', 'income_household_10_to_15', 'income_household_15_to_20', \n",
    "    'income_household_20_to_25', 'income_household_25_to_35', 'income_household_35_to_50', 'income_household_50_to_75', \n",
    "    'income_household_75_to_100', 'income_household_100_to_150', 'income_household_150_over', 'education_less_highschool', \n",
    "    'education_highschool', 'education_some_college', 'education_bachelors', 'education_graduate', 'education_college_or_above', \n",
    "    'education_stem_degree', 'married', 'divorced', 'never_married', 'widowed', 'male', 'female', 'home_ownership', \n",
    "    'housing_units', 'home_value', 'rent_median', 'rent_burden', 'age_median', 'farmer', 'bmi', \n",
    "    'metastatic_first_novel_treatment', 'metastatic_first_novel_treatment_type', 'patient_race', 'payer_type', 'patient_gender'\n",
    "]\n",
    "training = training.drop(columns, axis=1)\n",
    "test = test.drop(columns, axis=1)"
   ]
  },
  {
   "cell_type": "markdown",
   "metadata": {},
   "source": [
    "train ve test veri setlerindeki metin verisi bulunan sütunlardaki mantık hatalarını düzeltme"
   ]
  },
  {
   "cell_type": "code",
   "execution_count": 127,
   "metadata": {},
   "outputs": [],
   "source": [
    "merged_data = pd.concat([training, test], axis=0)"
   ]
  },
  {
   "cell_type": "code",
   "execution_count": 128,
   "metadata": {},
   "outputs": [],
   "source": [
    "merged_data.loc[merged_data[\"breast_cancer_diagnosis_desc\"] == 'Malignant neoplasm of unspecified site of right male breast', 'breast_cancer_diagnosis_desc'] = 'Malignant neoplasm of unspecified site of right female breast'\n",
    "merged_data.loc[merged_data[\"breast_cancer_diagnosis_desc\"] == 'Malignant neoplasm of unspecified site of left male breast', 'breast_cancer_diagnosis_desc'] = 'Malignant neoplasm of unspecified site of left female breast'\n",
    "merged_data.loc[merged_data['breast_cancer_diagnosis_code'] == 'C50922', 'breast_cancer_diagnosis_code'] = 'C50912'\n",
    "merged_data.loc[merged_data[\"breast_cancer_diagnosis_desc\"] == 'Malig neoplasm of upper-outer quadrant of right male breast', 'breast_cancer_diagnosis_desc'] = 'Malig neoplasm of upper-outer quadrant of right female breast'\n",
    "merged_data.loc[merged_data[\"breast_cancer_diagnosis_desc\"] == 'Malignant neoplasm of other and unspecified sites of male breast', 'breast_cancer_diagnosis_desc'] = 'Malignant neoplasm of other and unspecified sites of female breast'\n",
    "merged_data.loc[merged_data[\"breast_cancer_diagnosis_desc\"] == 'Malignant neoplasm of nipple and areola, right male breast', 'breast_cancer_diagnosis_desc'] = 'Malignant neoplasm of nipple and areola, right female breast'\n",
    "merged_data.loc[merged_data['breast_cancer_diagnosis_code'] == 'C50021', 'breast_cancer_diagnosis_code'] = 'C50011'\n",
    "merged_data.loc[merged_data[\"breast_cancer_diagnosis_desc\"] == 'Malignant neoplasm of unsp site of unspecified male breast', 'breast_cancer_diagnosis_desc'] = 'Malignant neoplasm of unsp site of unspecified female breast'\n",
    "merged_data.loc[merged_data['breast_cancer_diagnosis_code'] == 'C50929', 'breast_cancer_diagnosis_code'] = 'C50919'"
   ]
  },
  {
   "cell_type": "code",
   "execution_count": 129,
   "metadata": {},
   "outputs": [],
   "source": [
    "training = merged_data.iloc[:len(training), :]\n",
    "test = merged_data.iloc[len(training):, :]"
   ]
  },
  {
   "cell_type": "markdown",
   "metadata": {},
   "source": [
    "'patient_state', 'Region', 'Division' sütunlarındaki boş hücreleri doldurma"
   ]
  },
  {
   "cell_type": "code",
   "execution_count": 130,
   "metadata": {},
   "outputs": [],
   "source": [
    "dropped_columns = [\n",
    "    'population', 'density', 'family_size', 'family_dual_income', 'income_household_median', \n",
    "    'income_household_six_figure', 'income_individual_median', 'labor_force_participation',\n",
    "    'unemployment_rate', 'self_employed', 'race_white', 'race_black', 'race_asian', \n",
    "    'race_native', 'race_pacific', 'race_other', 'race_multiple', 'hispanic', 'disabled', \n",
    "    'poverty', 'limited_english', 'commute_time', 'health_uninsured', 'veteran', 'Ozone', \n",
    "    'PM25', 'N02'\n",
    "]"
   ]
  },
  {
   "cell_type": "code",
   "execution_count": 131,
   "metadata": {},
   "outputs": [],
   "source": [
    "a = training[dropped_columns]"
   ]
  },
  {
   "cell_type": "code",
   "execution_count": 132,
   "metadata": {},
   "outputs": [],
   "source": [
    "training = training.drop(dropped_columns, axis=1)"
   ]
  },
  {
   "cell_type": "code",
   "execution_count": 133,
   "metadata": {},
   "outputs": [],
   "source": [
    "c = training "
   ]
  },
  {
   "cell_type": "code",
   "execution_count": 134,
   "metadata": {},
   "outputs": [
    {
     "data": {
      "text/plain": [
       "52"
      ]
     },
     "execution_count": 134,
     "metadata": {},
     "output_type": "execute_result"
    }
   ],
   "source": [
    "len(c[c.isnull().any(axis=1)])"
   ]
  },
  {
   "cell_type": "code",
   "execution_count": 135,
   "metadata": {},
   "outputs": [
    {
     "name": "stdout",
     "output_type": "stream",
     "text": [
      "52\n"
     ]
    }
   ],
   "source": [
    "b = pd.DataFrame()\n",
    "b = c[c.isnull().any(axis=1)]\n",
    "print(len(b))"
   ]
  },
  {
   "cell_type": "code",
   "execution_count": 136,
   "metadata": {},
   "outputs": [
    {
     "data": {
      "text/plain": [
       "array([973, 330, 140, 916, 117, 853, 181, 111, 322, 136, 331, 662, 148,\n",
       "       300, 347, 711, 953, 975, 660, 324, 906, 338, 601, 420, 972, 974,\n",
       "       454, 900, 779, 913, 125, 157, 857, 142, 968, 902, 970, 294, 334,\n",
       "       666, 781, 335, 930, 109], dtype=int64)"
      ]
     },
     "execution_count": 136,
     "metadata": {},
     "output_type": "execute_result"
    }
   ],
   "source": [
    "rows = training[c.isnull().any(axis=1)]\n",
    "unique_null_zip3_numbers = rows[\"patient_zip3\"].unique()\n",
    "unique_null_zip3_numbers"
   ]
  },
  {
   "cell_type": "code",
   "execution_count": 137,
   "metadata": {},
   "outputs": [],
   "source": [
    "c = c.dropna()"
   ]
  },
  {
   "cell_type": "code",
   "execution_count": 138,
   "metadata": {},
   "outputs": [],
   "source": [
    "for i in unique_null_zip3_numbers:\n",
    "    rows2 = c[c['patient_zip3'] == i]\n",
    "    if i in rows2['patient_zip3'].unique():\n",
    "        null_mask = b[\"patient_zip3\"] == i\n",
    "        null_rows = b[null_mask][b[null_mask].isnull().any(axis=1)]\n",
    "        b.loc[null_mask, \"patient_state\"] = rows2[\"patient_state\"].unique()[0]\n",
    "        b.loc[null_mask, \"Region\"] = rows2[\"Region\"].unique()[0]\n",
    "        b.loc[null_mask, \"Division\"] = rows2[\"patient_state\"].unique()[0]"
   ]
  },
  {
   "cell_type": "code",
   "execution_count": 139,
   "metadata": {},
   "outputs": [],
   "source": [
    "training = pd.concat([training.drop(b.index), b])"
   ]
  },
  {
   "cell_type": "code",
   "execution_count": 140,
   "metadata": {},
   "outputs": [],
   "source": [
    "for column_name in dropped_columns:\n",
    "    training[column_name] = a[column_name]"
   ]
  },
  {
   "cell_type": "markdown",
   "metadata": {},
   "source": [
    "'N02', 'Ozone', 'PM25' sütunlarındaki boş hücreleri doldurma"
   ]
  },
  {
   "cell_type": "code",
   "execution_count": 141,
   "metadata": {},
   "outputs": [],
   "source": [
    "mean_N02 = training[\"N02\"].mean()\n",
    "mean_Ozone = training[\"Ozone\"].mean()\n",
    "mean_PM25 = training[\"PM25\"].mean()"
   ]
  },
  {
   "cell_type": "code",
   "execution_count": 142,
   "metadata": {},
   "outputs": [],
   "source": [
    "training[\"N02\"] = training[\"N02\"].fillna(value=mean_N02)\n",
    "training[\"Ozone\"] = training[\"Ozone\"].fillna(value=mean_Ozone)\n",
    "training[\"PM25\"] = training[\"PM25\"].fillna(value=mean_PM25)"
   ]
  },
  {
   "cell_type": "markdown",
   "metadata": {},
   "source": [
    "Boş hücre bulunan satırları doldurma"
   ]
  },
  {
   "cell_type": "code",
   "execution_count": 143,
   "metadata": {},
   "outputs": [],
   "source": [
    "f = training[training.isnull().any(axis=1)]"
   ]
  },
  {
   "cell_type": "code",
   "execution_count": 144,
   "metadata": {},
   "outputs": [
    {
     "data": {
      "text/plain": [
       "3.324796447735702"
      ]
     },
     "execution_count": 144,
     "metadata": {},
     "output_type": "execute_result"
    }
   ],
   "source": [
    "training[training[\"patient_state\"] == 'TX'][\"family_size\"].mean()"
   ]
  },
  {
   "cell_type": "code",
   "execution_count": 145,
   "metadata": {},
   "outputs": [],
   "source": [
    "columns2 = [\n",
    "    \"family_size\", \"family_dual_income\", \"income_household_median\", \n",
    "    \"income_household_six_figure\", \"self_employed\", \"poverty\", \"limited_english\"\n",
    "]\n",
    "for i in columns2:\n",
    "    training.at[2996, i] = training[training[\"patient_state\"] == 'TX'][i].mean()\n",
    "    training.at[8481, i] = training[training[\"patient_state\"] == 'TX'][i].mean()\n",
    "    training.at[10542, i] = training[training[\"patient_state\"] == 'TX'][i].mean()\n",
    "    training.at[11314, i] = training[training[\"patient_state\"] == 'TX'][i].mean()"
   ]
  },
  {
   "cell_type": "code",
   "execution_count": 146,
   "metadata": {},
   "outputs": [
    {
     "data": {
      "text/html": [
       "<div>\n",
       "<style scoped>\n",
       "    .dataframe tbody tr th:only-of-type {\n",
       "        vertical-align: middle;\n",
       "    }\n",
       "\n",
       "    .dataframe tbody tr th {\n",
       "        vertical-align: top;\n",
       "    }\n",
       "\n",
       "    .dataframe thead th {\n",
       "        text-align: right;\n",
       "    }\n",
       "</style>\n",
       "<table border=\"1\" class=\"dataframe\">\n",
       "  <thead>\n",
       "    <tr style=\"text-align: right;\">\n",
       "      <th></th>\n",
       "      <th>patient_id</th>\n",
       "      <th>patient_state</th>\n",
       "      <th>patient_zip3</th>\n",
       "      <th>patient_age</th>\n",
       "      <th>breast_cancer_diagnosis_code</th>\n",
       "      <th>breast_cancer_diagnosis_desc</th>\n",
       "      <th>metastatic_cancer_diagnosis_code</th>\n",
       "      <th>Region</th>\n",
       "      <th>Division</th>\n",
       "      <th>DiagPeriodL90D</th>\n",
       "      <th>population</th>\n",
       "      <th>density</th>\n",
       "      <th>family_size</th>\n",
       "      <th>family_dual_income</th>\n",
       "      <th>income_household_median</th>\n",
       "      <th>income_household_six_figure</th>\n",
       "      <th>income_individual_median</th>\n",
       "      <th>labor_force_participation</th>\n",
       "      <th>unemployment_rate</th>\n",
       "      <th>self_employed</th>\n",
       "      <th>race_white</th>\n",
       "      <th>race_black</th>\n",
       "      <th>race_asian</th>\n",
       "      <th>race_native</th>\n",
       "      <th>race_pacific</th>\n",
       "      <th>race_other</th>\n",
       "      <th>race_multiple</th>\n",
       "      <th>hispanic</th>\n",
       "      <th>disabled</th>\n",
       "      <th>poverty</th>\n",
       "      <th>limited_english</th>\n",
       "      <th>commute_time</th>\n",
       "      <th>health_uninsured</th>\n",
       "      <th>veteran</th>\n",
       "      <th>Ozone</th>\n",
       "      <th>PM25</th>\n",
       "      <th>N02</th>\n",
       "    </tr>\n",
       "  </thead>\n",
       "  <tbody>\n",
       "    <tr>\n",
       "      <th>10542</th>\n",
       "      <td>224030</td>\n",
       "      <td>FL</td>\n",
       "      <td>332</td>\n",
       "      <td>41</td>\n",
       "      <td>C50911</td>\n",
       "      <td>Malignant neoplasm of unsp site of right femal...</td>\n",
       "      <td>C7800</td>\n",
       "      <td>South</td>\n",
       "      <td>South Atlantic</td>\n",
       "      <td>0.0</td>\n",
       "      <td>NaN</td>\n",
       "      <td>NaN</td>\n",
       "      <td>3.324796</td>\n",
       "      <td>50.836314</td>\n",
       "      <td>69032.323663</td>\n",
       "      <td>29.640414</td>\n",
       "      <td>NaN</td>\n",
       "      <td>NaN</td>\n",
       "      <td>NaN</td>\n",
       "      <td>14.272299</td>\n",
       "      <td>NaN</td>\n",
       "      <td>NaN</td>\n",
       "      <td>NaN</td>\n",
       "      <td>NaN</td>\n",
       "      <td>NaN</td>\n",
       "      <td>NaN</td>\n",
       "      <td>NaN</td>\n",
       "      <td>NaN</td>\n",
       "      <td>NaN</td>\n",
       "      <td>14.88433</td>\n",
       "      <td>7.130051</td>\n",
       "      <td>NaN</td>\n",
       "      <td>NaN</td>\n",
       "      <td>NaN</td>\n",
       "      <td>35.544993</td>\n",
       "      <td>8.714016</td>\n",
       "      <td>16.558153</td>\n",
       "    </tr>\n",
       "  </tbody>\n",
       "</table>\n",
       "</div>"
      ],
      "text/plain": [
       "       patient_id patient_state  patient_zip3  patient_age  \\\n",
       "10542      224030            FL           332           41   \n",
       "\n",
       "      breast_cancer_diagnosis_code  \\\n",
       "10542                       C50911   \n",
       "\n",
       "                            breast_cancer_diagnosis_desc  \\\n",
       "10542  Malignant neoplasm of unsp site of right femal...   \n",
       "\n",
       "      metastatic_cancer_diagnosis_code Region        Division  DiagPeriodL90D  \\\n",
       "10542                            C7800  South  South Atlantic             0.0   \n",
       "\n",
       "       population  density  family_size  family_dual_income  \\\n",
       "10542         NaN      NaN     3.324796           50.836314   \n",
       "\n",
       "       income_household_median  income_household_six_figure  \\\n",
       "10542             69032.323663                    29.640414   \n",
       "\n",
       "       income_individual_median  labor_force_participation  unemployment_rate  \\\n",
       "10542                       NaN                        NaN                NaN   \n",
       "\n",
       "       self_employed  race_white  race_black  race_asian  race_native  \\\n",
       "10542      14.272299         NaN         NaN         NaN          NaN   \n",
       "\n",
       "       race_pacific  race_other  race_multiple  hispanic  disabled   poverty  \\\n",
       "10542           NaN         NaN            NaN       NaN       NaN  14.88433   \n",
       "\n",
       "       limited_english  commute_time  health_uninsured  veteran      Ozone  \\\n",
       "10542         7.130051           NaN               NaN      NaN  35.544993   \n",
       "\n",
       "           PM25        N02  \n",
       "10542  8.714016  16.558153  "
      ]
     },
     "execution_count": 146,
     "metadata": {},
     "output_type": "execute_result"
    }
   ],
   "source": [
    "training[training.isnull().any(axis=1)]"
   ]
  },
  {
   "cell_type": "code",
   "execution_count": 147,
   "metadata": {},
   "outputs": [
    {
     "data": {
      "text/html": [
       "<div>\n",
       "<style scoped>\n",
       "    .dataframe tbody tr th:only-of-type {\n",
       "        vertical-align: middle;\n",
       "    }\n",
       "\n",
       "    .dataframe tbody tr th {\n",
       "        vertical-align: top;\n",
       "    }\n",
       "\n",
       "    .dataframe thead th {\n",
       "        text-align: right;\n",
       "    }\n",
       "</style>\n",
       "<table border=\"1\" class=\"dataframe\">\n",
       "  <thead>\n",
       "    <tr style=\"text-align: right;\">\n",
       "      <th></th>\n",
       "      <th>patient_id</th>\n",
       "      <th>patient_state</th>\n",
       "      <th>patient_zip3</th>\n",
       "      <th>patient_age</th>\n",
       "      <th>breast_cancer_diagnosis_code</th>\n",
       "      <th>breast_cancer_diagnosis_desc</th>\n",
       "      <th>metastatic_cancer_diagnosis_code</th>\n",
       "      <th>Region</th>\n",
       "      <th>Division</th>\n",
       "      <th>DiagPeriodL90D</th>\n",
       "      <th>population</th>\n",
       "      <th>density</th>\n",
       "      <th>family_size</th>\n",
       "      <th>family_dual_income</th>\n",
       "      <th>income_household_median</th>\n",
       "      <th>income_household_six_figure</th>\n",
       "      <th>income_individual_median</th>\n",
       "      <th>labor_force_participation</th>\n",
       "      <th>unemployment_rate</th>\n",
       "      <th>self_employed</th>\n",
       "      <th>race_white</th>\n",
       "      <th>race_black</th>\n",
       "      <th>race_asian</th>\n",
       "      <th>race_native</th>\n",
       "      <th>race_pacific</th>\n",
       "      <th>race_other</th>\n",
       "      <th>race_multiple</th>\n",
       "      <th>hispanic</th>\n",
       "      <th>disabled</th>\n",
       "      <th>poverty</th>\n",
       "      <th>limited_english</th>\n",
       "      <th>commute_time</th>\n",
       "      <th>health_uninsured</th>\n",
       "      <th>veteran</th>\n",
       "      <th>Ozone</th>\n",
       "      <th>PM25</th>\n",
       "      <th>N02</th>\n",
       "    </tr>\n",
       "  </thead>\n",
       "  <tbody>\n",
       "    <tr>\n",
       "      <th>10542</th>\n",
       "      <td>224030</td>\n",
       "      <td>FL</td>\n",
       "      <td>332</td>\n",
       "      <td>41</td>\n",
       "      <td>C50911</td>\n",
       "      <td>Malignant neoplasm of unsp site of right femal...</td>\n",
       "      <td>C7800</td>\n",
       "      <td>South</td>\n",
       "      <td>South Atlantic</td>\n",
       "      <td>0.0</td>\n",
       "      <td>NaN</td>\n",
       "      <td>NaN</td>\n",
       "      <td>3.324796</td>\n",
       "      <td>50.836314</td>\n",
       "      <td>69032.323663</td>\n",
       "      <td>29.640414</td>\n",
       "      <td>NaN</td>\n",
       "      <td>NaN</td>\n",
       "      <td>NaN</td>\n",
       "      <td>14.272299</td>\n",
       "      <td>NaN</td>\n",
       "      <td>NaN</td>\n",
       "      <td>NaN</td>\n",
       "      <td>NaN</td>\n",
       "      <td>NaN</td>\n",
       "      <td>NaN</td>\n",
       "      <td>NaN</td>\n",
       "      <td>NaN</td>\n",
       "      <td>NaN</td>\n",
       "      <td>14.88433</td>\n",
       "      <td>7.130051</td>\n",
       "      <td>NaN</td>\n",
       "      <td>NaN</td>\n",
       "      <td>NaN</td>\n",
       "      <td>35.544993</td>\n",
       "      <td>8.714016</td>\n",
       "      <td>16.558153</td>\n",
       "    </tr>\n",
       "  </tbody>\n",
       "</table>\n",
       "</div>"
      ],
      "text/plain": [
       "       patient_id patient_state  patient_zip3  patient_age  \\\n",
       "10542      224030            FL           332           41   \n",
       "\n",
       "      breast_cancer_diagnosis_code  \\\n",
       "10542                       C50911   \n",
       "\n",
       "                            breast_cancer_diagnosis_desc  \\\n",
       "10542  Malignant neoplasm of unsp site of right femal...   \n",
       "\n",
       "      metastatic_cancer_diagnosis_code Region        Division  DiagPeriodL90D  \\\n",
       "10542                            C7800  South  South Atlantic             0.0   \n",
       "\n",
       "       population  density  family_size  family_dual_income  \\\n",
       "10542         NaN      NaN     3.324796           50.836314   \n",
       "\n",
       "       income_household_median  income_household_six_figure  \\\n",
       "10542             69032.323663                    29.640414   \n",
       "\n",
       "       income_individual_median  labor_force_participation  unemployment_rate  \\\n",
       "10542                       NaN                        NaN                NaN   \n",
       "\n",
       "       self_employed  race_white  race_black  race_asian  race_native  \\\n",
       "10542      14.272299         NaN         NaN         NaN          NaN   \n",
       "\n",
       "       race_pacific  race_other  race_multiple  hispanic  disabled   poverty  \\\n",
       "10542           NaN         NaN            NaN       NaN       NaN  14.88433   \n",
       "\n",
       "       limited_english  commute_time  health_uninsured  veteran      Ozone  \\\n",
       "10542         7.130051           NaN               NaN      NaN  35.544993   \n",
       "\n",
       "           PM25        N02  \n",
       "10542  8.714016  16.558153  "
      ]
     },
     "execution_count": 147,
     "metadata": {},
     "output_type": "execute_result"
    }
   ],
   "source": [
    "training[training[\"patient_zip3\"] == 332]"
   ]
  },
  {
   "cell_type": "code",
   "execution_count": 148,
   "metadata": {},
   "outputs": [],
   "source": [
    "columns3 = [\n",
    "    \"population\", \"density\", \"income_individual_median\", \"labor_force_participation\", \n",
    "    \"unemployment_rate\", \"race_white\", \"race_black\", \"race_asian\", \"race_native\", \n",
    "    \"race_pacific\", \"race_other\", \"race_multiple\", \"hispanic\", \"disabled\",\n",
    "    \"commute_time\", \"health_uninsured\", \"veteran\"\n",
    "]\n",
    "for i in columns3:\n",
    "    training.at[10542, i] = training[training[\"patient_state\"] == 'FL'][i].mean()"
   ]
  },
  {
   "cell_type": "code",
   "execution_count": 149,
   "metadata": {},
   "outputs": [],
   "source": [
    "test = test.drop(['DiagPeriodL90D'], axis=1)"
   ]
  },
  {
   "cell_type": "code",
   "execution_count": 150,
   "metadata": {},
   "outputs": [],
   "source": [
    "dropped_columns_2 = [\n",
    "    'family_size', 'family_dual_income', 'income_household_median', \n",
    "    'income_household_six_figure', 'self_employed', 'poverty', 'limited_english', \n",
    "    'Ozone', 'PM25', 'N02'\n",
    "]"
   ]
  },
  {
   "cell_type": "code",
   "execution_count": 151,
   "metadata": {},
   "outputs": [],
   "source": [
    "a = test[dropped_columns_2]"
   ]
  },
  {
   "cell_type": "code",
   "execution_count": 152,
   "metadata": {},
   "outputs": [],
   "source": [
    "test = test.drop(dropped_columns_2, axis=1)"
   ]
  },
  {
   "cell_type": "code",
   "execution_count": 153,
   "metadata": {},
   "outputs": [],
   "source": [
    "c = test"
   ]
  },
  {
   "cell_type": "code",
   "execution_count": 154,
   "metadata": {},
   "outputs": [
    {
     "data": {
      "text/plain": [
       "21"
      ]
     },
     "execution_count": 154,
     "metadata": {},
     "output_type": "execute_result"
    }
   ],
   "source": [
    "len(c[c.isnull().any(axis=1)])"
   ]
  },
  {
   "cell_type": "code",
   "execution_count": 155,
   "metadata": {},
   "outputs": [
    {
     "name": "stdout",
     "output_type": "stream",
     "text": [
      "21\n"
     ]
    }
   ],
   "source": [
    "b = pd.DataFrame()\n",
    "b = c[c.isnull().any(axis=1)]\n",
    "print(len(b))"
   ]
  },
  {
   "cell_type": "code",
   "execution_count": 156,
   "metadata": {},
   "outputs": [
    {
     "data": {
      "text/plain": [
       "array([975, 937, 303, 390, 902, 974, 705, 451, 785, 852, 394, 130, 986,\n",
       "       112, 473, 750, 645], dtype=int64)"
      ]
     },
     "execution_count": 156,
     "metadata": {},
     "output_type": "execute_result"
    }
   ],
   "source": [
    "rows = test[c.isnull().any(axis=1)]\n",
    "unique_null_zip3_numbers = rows[\"patient_zip3\"].unique()\n",
    "unique_null_zip3_numbers"
   ]
  },
  {
   "cell_type": "code",
   "execution_count": 157,
   "metadata": {},
   "outputs": [],
   "source": [
    "c = c.dropna()"
   ]
  },
  {
   "cell_type": "code",
   "execution_count": 158,
   "metadata": {},
   "outputs": [],
   "source": [
    "for i in unique_null_zip3_numbers:\n",
    "    rows2 = c[c['patient_zip3'] == i]\n",
    "    if i in rows2['patient_zip3'].unique():\n",
    "        null_mask = b[\"patient_zip3\"] == i\n",
    "        null_rows = b[null_mask][b[null_mask].isnull().any(axis=1)]\n",
    "        b.loc[null_mask, \"patient_state\"] = rows2[\"patient_state\"].unique()[0]\n",
    "        b.loc[null_mask, \"Region\"] = rows2[\"Region\"].unique()[0]\n",
    "        b.loc[null_mask, \"Division\"] = rows2[\"patient_state\"].unique()[0]"
   ]
  },
  {
   "cell_type": "code",
   "execution_count": 159,
   "metadata": {},
   "outputs": [],
   "source": [
    "test = pd.concat([test.drop(b.index), b])"
   ]
  },
  {
   "cell_type": "code",
   "execution_count": 160,
   "metadata": {},
   "outputs": [
    {
     "data": {
      "text/html": [
       "<div>\n",
       "<style scoped>\n",
       "    .dataframe tbody tr th:only-of-type {\n",
       "        vertical-align: middle;\n",
       "    }\n",
       "\n",
       "    .dataframe tbody tr th {\n",
       "        vertical-align: top;\n",
       "    }\n",
       "\n",
       "    .dataframe thead th {\n",
       "        text-align: right;\n",
       "    }\n",
       "</style>\n",
       "<table border=\"1\" class=\"dataframe\">\n",
       "  <thead>\n",
       "    <tr style=\"text-align: right;\">\n",
       "      <th></th>\n",
       "      <th>patient_id</th>\n",
       "      <th>patient_state</th>\n",
       "      <th>patient_zip3</th>\n",
       "      <th>patient_age</th>\n",
       "      <th>breast_cancer_diagnosis_code</th>\n",
       "      <th>breast_cancer_diagnosis_desc</th>\n",
       "      <th>metastatic_cancer_diagnosis_code</th>\n",
       "      <th>Region</th>\n",
       "      <th>Division</th>\n",
       "      <th>population</th>\n",
       "      <th>density</th>\n",
       "      <th>income_individual_median</th>\n",
       "      <th>labor_force_participation</th>\n",
       "      <th>unemployment_rate</th>\n",
       "      <th>race_white</th>\n",
       "      <th>race_black</th>\n",
       "      <th>race_asian</th>\n",
       "      <th>race_native</th>\n",
       "      <th>race_pacific</th>\n",
       "      <th>race_other</th>\n",
       "      <th>race_multiple</th>\n",
       "      <th>hispanic</th>\n",
       "      <th>disabled</th>\n",
       "      <th>commute_time</th>\n",
       "      <th>health_uninsured</th>\n",
       "      <th>veteran</th>\n",
       "    </tr>\n",
       "  </thead>\n",
       "  <tbody>\n",
       "    <tr>\n",
       "      <th>5773</th>\n",
       "      <td>452914</td>\n",
       "      <td>NaN</td>\n",
       "      <td>645</td>\n",
       "      <td>41</td>\n",
       "      <td>C50412</td>\n",
       "      <td>Malig neoplasm of upper-outer quadrant of left...</td>\n",
       "      <td>C773</td>\n",
       "      <td>NaN</td>\n",
       "      <td>NaN</td>\n",
       "      <td>14063.16667</td>\n",
       "      <td>437.033333</td>\n",
       "      <td>28515.83333</td>\n",
       "      <td>61.166667</td>\n",
       "      <td>5.366667</td>\n",
       "      <td>83.95</td>\n",
       "      <td>5.35</td>\n",
       "      <td>1.316667</td>\n",
       "      <td>0.4</td>\n",
       "      <td>0.666667</td>\n",
       "      <td>2.733333</td>\n",
       "      <td>5.583333</td>\n",
       "      <td>7.45</td>\n",
       "      <td>17.233333</td>\n",
       "      <td>16.866667</td>\n",
       "      <td>12.533333</td>\n",
       "      <td>8.283333</td>\n",
       "    </tr>\n",
       "  </tbody>\n",
       "</table>\n",
       "</div>"
      ],
      "text/plain": [
       "      patient_id patient_state  patient_zip3  patient_age  \\\n",
       "5773      452914           NaN           645           41   \n",
       "\n",
       "     breast_cancer_diagnosis_code  \\\n",
       "5773                       C50412   \n",
       "\n",
       "                           breast_cancer_diagnosis_desc  \\\n",
       "5773  Malig neoplasm of upper-outer quadrant of left...   \n",
       "\n",
       "     metastatic_cancer_diagnosis_code Region Division   population  \\\n",
       "5773                             C773    NaN      NaN  14063.16667   \n",
       "\n",
       "         density  income_individual_median  labor_force_participation  \\\n",
       "5773  437.033333               28515.83333                  61.166667   \n",
       "\n",
       "      unemployment_rate  race_white  race_black  race_asian  race_native  \\\n",
       "5773           5.366667       83.95        5.35    1.316667          0.4   \n",
       "\n",
       "      race_pacific  race_other  race_multiple  hispanic   disabled  \\\n",
       "5773      0.666667    2.733333       5.583333      7.45  17.233333   \n",
       "\n",
       "      commute_time  health_uninsured   veteran  \n",
       "5773     16.866667         12.533333  8.283333  "
      ]
     },
     "execution_count": 160,
     "metadata": {},
     "output_type": "execute_result"
    }
   ],
   "source": [
    "test[test.isnull().any(axis=1)]"
   ]
  },
  {
   "cell_type": "code",
   "execution_count": 161,
   "metadata": {},
   "outputs": [
    {
     "data": {
      "text/html": [
       "<div>\n",
       "<style scoped>\n",
       "    .dataframe tbody tr th:only-of-type {\n",
       "        vertical-align: middle;\n",
       "    }\n",
       "\n",
       "    .dataframe tbody tr th {\n",
       "        vertical-align: top;\n",
       "    }\n",
       "\n",
       "    .dataframe thead th {\n",
       "        text-align: right;\n",
       "    }\n",
       "</style>\n",
       "<table border=\"1\" class=\"dataframe\">\n",
       "  <thead>\n",
       "    <tr style=\"text-align: right;\">\n",
       "      <th></th>\n",
       "      <th>patient_id</th>\n",
       "      <th>patient_state</th>\n",
       "      <th>patient_zip3</th>\n",
       "      <th>patient_age</th>\n",
       "      <th>breast_cancer_diagnosis_code</th>\n",
       "      <th>breast_cancer_diagnosis_desc</th>\n",
       "      <th>metastatic_cancer_diagnosis_code</th>\n",
       "      <th>Region</th>\n",
       "      <th>Division</th>\n",
       "      <th>population</th>\n",
       "      <th>density</th>\n",
       "      <th>income_individual_median</th>\n",
       "      <th>labor_force_participation</th>\n",
       "      <th>unemployment_rate</th>\n",
       "      <th>race_white</th>\n",
       "      <th>race_black</th>\n",
       "      <th>race_asian</th>\n",
       "      <th>race_native</th>\n",
       "      <th>race_pacific</th>\n",
       "      <th>race_other</th>\n",
       "      <th>race_multiple</th>\n",
       "      <th>hispanic</th>\n",
       "      <th>disabled</th>\n",
       "      <th>commute_time</th>\n",
       "      <th>health_uninsured</th>\n",
       "      <th>veteran</th>\n",
       "    </tr>\n",
       "  </thead>\n",
       "  <tbody>\n",
       "    <tr>\n",
       "      <th>5773</th>\n",
       "      <td>452914</td>\n",
       "      <td>NaN</td>\n",
       "      <td>645</td>\n",
       "      <td>41</td>\n",
       "      <td>C50412</td>\n",
       "      <td>Malig neoplasm of upper-outer quadrant of left...</td>\n",
       "      <td>C773</td>\n",
       "      <td>NaN</td>\n",
       "      <td>NaN</td>\n",
       "      <td>14063.16667</td>\n",
       "      <td>437.033333</td>\n",
       "      <td>28515.83333</td>\n",
       "      <td>61.166667</td>\n",
       "      <td>5.366667</td>\n",
       "      <td>83.95</td>\n",
       "      <td>5.35</td>\n",
       "      <td>1.316667</td>\n",
       "      <td>0.4</td>\n",
       "      <td>0.666667</td>\n",
       "      <td>2.733333</td>\n",
       "      <td>5.583333</td>\n",
       "      <td>7.45</td>\n",
       "      <td>17.233333</td>\n",
       "      <td>16.866667</td>\n",
       "      <td>12.533333</td>\n",
       "      <td>8.283333</td>\n",
       "    </tr>\n",
       "  </tbody>\n",
       "</table>\n",
       "</div>"
      ],
      "text/plain": [
       "      patient_id patient_state  patient_zip3  patient_age  \\\n",
       "5773      452914           NaN           645           41   \n",
       "\n",
       "     breast_cancer_diagnosis_code  \\\n",
       "5773                       C50412   \n",
       "\n",
       "                           breast_cancer_diagnosis_desc  \\\n",
       "5773  Malig neoplasm of upper-outer quadrant of left...   \n",
       "\n",
       "     metastatic_cancer_diagnosis_code Region Division   population  \\\n",
       "5773                             C773    NaN      NaN  14063.16667   \n",
       "\n",
       "         density  income_individual_median  labor_force_participation  \\\n",
       "5773  437.033333               28515.83333                  61.166667   \n",
       "\n",
       "      unemployment_rate  race_white  race_black  race_asian  race_native  \\\n",
       "5773           5.366667       83.95        5.35    1.316667          0.4   \n",
       "\n",
       "      race_pacific  race_other  race_multiple  hispanic   disabled  \\\n",
       "5773      0.666667    2.733333       5.583333      7.45  17.233333   \n",
       "\n",
       "      commute_time  health_uninsured   veteran  \n",
       "5773     16.866667         12.533333  8.283333  "
      ]
     },
     "execution_count": 161,
     "metadata": {},
     "output_type": "execute_result"
    }
   ],
   "source": [
    "test[test[\"patient_zip3\"] == 645]"
   ]
  },
  {
   "cell_type": "code",
   "execution_count": 162,
   "metadata": {},
   "outputs": [],
   "source": [
    "test.at[5773, 'patient_state'] = 'A'\n",
    "test.at[5773, 'Region'] = 'B'\n",
    "test.at[5773, 'Division'] = 'C'"
   ]
  },
  {
   "cell_type": "markdown",
   "metadata": {},
   "source": [
    "Veri setinde kategorik değişkenler bulunduran sütunları sayısal değerlere dönüştürmek"
   ]
  },
  {
   "cell_type": "code",
   "execution_count": 163,
   "metadata": {},
   "outputs": [],
   "source": [
    "merged_data_2 = pd.concat([training, test], axis=0)"
   ]
  },
  {
   "cell_type": "code",
   "execution_count": 164,
   "metadata": {},
   "outputs": [],
   "source": [
    "categorical_columns = [\n",
    "    'patient_state', 'breast_cancer_diagnosis_code', 'breast_cancer_diagnosis_desc', \n",
    "    'metastatic_cancer_diagnosis_code', 'Region', 'Division']\n",
    "label_encoders = {}\n",
    "for column in categorical_columns:\n",
    "    label_encoders[column] = LabelEncoder()\n",
    "for column in categorical_columns:\n",
    "    if column in training.columns and column in test.columns: \n",
    "        merged_data_2[column] = label_encoders[column].fit_transform(merged_data_2[column].astype(str))"
   ]
  },
  {
   "cell_type": "code",
   "execution_count": 165,
   "metadata": {},
   "outputs": [],
   "source": [
    "training = merged_data_2.iloc[:len(training), :]\n",
    "test = merged_data_2.iloc[len(training):, :]"
   ]
  },
  {
   "cell_type": "code",
   "execution_count": 166,
   "metadata": {},
   "outputs": [],
   "source": [
    "test = test.drop([\"DiagPeriodL90D\"], axis=1)"
   ]
  },
  {
   "cell_type": "markdown",
   "metadata": {},
   "source": [
    "Modeli test ederken kullanmak için training verimizi test ve train olarak ikiye ayırıyoruz"
   ]
  },
  {
   "cell_type": "code",
   "execution_count": 167,
   "metadata": {},
   "outputs": [],
   "source": [
    "X = training.drop(columns=['DiagPeriodL90D'])\n",
    "y = training['DiagPeriodL90D']\n",
    "X_train, X_test, y_train, y_test = train_test_split(X, y, test_size = 0.2, random_state = 42)"
   ]
  },
  {
   "cell_type": "markdown",
   "metadata": {},
   "source": [
    "En doğru model ve parametrelere karar verme"
   ]
  },
  {
   "cell_type": "code",
   "execution_count": 168,
   "metadata": {},
   "outputs": [
    {
     "name": "stdout",
     "output_type": "stream",
     "text": [
      "[LightGBM] [Warning] Accuracy may be bad since you didn't explicitly set num_leaves OR 2^max_depth > num_leaves. (num_leaves=31).\n",
      "[LightGBM] [Warning] Accuracy may be bad since you didn't explicitly set num_leaves OR 2^max_depth > num_leaves. (num_leaves=31).\n",
      "[LightGBM] [Info] Auto-choosing col-wise multi-threading, the overhead of testing was 0.001517 seconds.\n",
      "You can set `force_col_wise=true` to remove the overhead.\n",
      "[LightGBM] [Info] Total Bins 7496\n",
      "[LightGBM] [Info] Number of data points in the train set: 10324, number of used features: 36\n",
      "[LightGBM] [Info] Start training from score 0.626792\n",
      "[LightGBM] [Warning] No further splits with positive gain, best gain: -inf\n",
      "[LightGBM] [Warning] Accuracy may be bad since you didn't explicitly set num_leaves OR 2^max_depth > num_leaves. (num_leaves=31).\n",
      "LightGBM AUC: 0.7992932909219159\n"
     ]
    }
   ],
   "source": [
    "model_lgbm = LGBMRegressor(n_estimators=100, random_state=42, colsample_bytree=0.5, \n",
    "                             learning_rate=0.01, max_depth=7, subsample=0.5)\n",
    "model_lgbm.fit(X_train, y_train)\n",
    "prediction_lgbm = model_lgbm.predict(X_test)\n",
    "auc_lgbm = roc_auc_score(y_test, prediction_lgbm)\n",
    "print(\"LightGBM AUC:\", auc_lgbm)"
   ]
  }
 ],
 "metadata": {
  "kernelspec": {
   "display_name": "Python 3",
   "language": "python",
   "name": "python3"
  },
  "language_info": {
   "codemirror_mode": {
    "name": "ipython",
    "version": 3
   },
   "file_extension": ".py",
   "mimetype": "text/x-python",
   "name": "python",
   "nbconvert_exporter": "python",
   "pygments_lexer": "ipython3",
   "version": "3.10.0"
  }
 },
 "nbformat": 4,
 "nbformat_minor": 2
}
